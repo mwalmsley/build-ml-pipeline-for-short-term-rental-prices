{
 "cells": [
  {
   "cell_type": "code",
   "execution_count": 1,
   "id": "3f123bb1",
   "metadata": {},
   "outputs": [
    {
     "name": "stderr",
     "output_type": "stream",
     "text": [
      "<ipython-input-1-e54a27cba2e5>:3: DeprecationWarning: `import pandas_profiling` is going to be deprecated by April 1st. Please use `import ydata_profiling` instead.\n",
      "  import pandas_profiling\n",
      "Failed to detect the name of this notebook, you can set it manually with the WANDB_NOTEBOOK_NAME environment variable to enable code saving.\n",
      "\u001b[34m\u001b[1mwandb\u001b[0m: Currently logged in as: \u001b[33mjbca-ice\u001b[0m (use `wandb login --relogin` to force relogin)\n",
      "\u001b[34m\u001b[1mwandb\u001b[0m: wandb version 0.15.4 is available!  To upgrade, please run:\n",
      "\u001b[34m\u001b[1mwandb\u001b[0m:  $ pip install wandb --upgrade\n"
     ]
    },
    {
     "data": {
      "text/html": [
       "\n",
       "                Tracking run with wandb version 0.10.31<br/>\n",
       "                Syncing run <strong style=\"color:#cdcd00\">apricot-planet-46</strong> to <a href=\"https://wandb.ai\" target=\"_blank\">Weights & Biases</a> <a href=\"https://docs.wandb.com/integrations/jupyter.html\" target=\"_blank\">(Documentation)</a>.<br/>\n",
       "                Project page: <a href=\"https://wandb.ai/jbca-ice/nyc_airbnb\" target=\"_blank\">https://wandb.ai/jbca-ice/nyc_airbnb</a><br/>\n",
       "                Run page: <a href=\"https://wandb.ai/jbca-ice/nyc_airbnb/runs/35lyfga9\" target=\"_blank\">https://wandb.ai/jbca-ice/nyc_airbnb/runs/35lyfga9</a><br/>\n",
       "                Run data is saved locally in <code>/home/walml/repos/build-ml-pipeline-for-short-term-rental-prices/src/eda/wandb/run-20230617_184225-35lyfga9</code><br/><br/>\n",
       "            "
      ],
      "text/plain": [
       "<IPython.core.display.HTML object>"
      ]
     },
     "metadata": {},
     "output_type": "display_data"
    }
   ],
   "source": [
    "import wandb\n",
    "import pandas as pd\n",
    "# pandas_profiling is deprecated\n",
    "import ydata_profiling\n",
    "\n",
    "run = wandb.init(project=\"nyc_airbnb\", group=\"eda\", save_code=True)\n",
    "local_path = wandb.use_artifact(\"sample.csv:latest\").file()\n",
    "df = pd.read_csv(local_path)"
   ]
  },
  {
   "cell_type": "code",
   "execution_count": 2,
   "id": "55f26a8e",
   "metadata": {},
   "outputs": [
    {
     "data": {
      "application/vnd.jupyter.widget-view+json": {
       "model_id": "b1627dacf8f24be5b9472fae687110a5",
       "version_major": 2,
       "version_minor": 0
      },
      "text/plain": [
       "Summarize dataset:   0%|          | 0/5 [00:00<?, ?it/s]"
      ]
     },
     "metadata": {},
     "output_type": "display_data"
    },
    {
     "data": {
      "application/vnd.jupyter.widget-view+json": {
       "model_id": "029545486b524ceb95a287192ef962f9",
       "version_major": 2,
       "version_minor": 0
      },
      "text/plain": [
       "Generate report structure:   0%|          | 0/1 [00:00<?, ?it/s]"
      ]
     },
     "metadata": {},
     "output_type": "display_data"
    },
    {
     "data": {
      "application/vnd.jupyter.widget-view+json": {
       "model_id": "34c0dad1254149c193f2bef60838e8d2",
       "version_major": 2,
       "version_minor": 0
      },
      "text/plain": [
       "Render widgets:   0%|          | 0/1 [00:00<?, ?it/s]"
      ]
     },
     "metadata": {},
     "output_type": "display_data"
    }
   ],
   "source": [
    "\n",
    "\n",
    "profile = pandas_profiling.ProfileReport(df)\n",
    "profile.to_widgets()\n"
   ]
  },
  {
   "cell_type": "code",
   "execution_count": 6,
   "id": "22d36413",
   "metadata": {},
   "outputs": [
    {
     "data": {
      "text/html": [
       "<div>\n",
       "<style scoped>\n",
       "    .dataframe tbody tr th:only-of-type {\n",
       "        vertical-align: middle;\n",
       "    }\n",
       "\n",
       "    .dataframe tbody tr th {\n",
       "        vertical-align: top;\n",
       "    }\n",
       "\n",
       "    .dataframe thead th {\n",
       "        text-align: right;\n",
       "    }\n",
       "</style>\n",
       "<table border=\"1\" class=\"dataframe\">\n",
       "  <thead>\n",
       "    <tr style=\"text-align: right;\">\n",
       "      <th></th>\n",
       "      <th>id</th>\n",
       "      <th>host_id</th>\n",
       "      <th>latitude</th>\n",
       "      <th>longitude</th>\n",
       "      <th>price</th>\n",
       "      <th>minimum_nights</th>\n",
       "      <th>number_of_reviews</th>\n",
       "      <th>reviews_per_month</th>\n",
       "      <th>calculated_host_listings_count</th>\n",
       "      <th>availability_365</th>\n",
       "    </tr>\n",
       "  </thead>\n",
       "  <tbody>\n",
       "    <tr>\n",
       "      <th>count</th>\n",
       "      <td>4.642800e+04</td>\n",
       "      <td>4.642800e+04</td>\n",
       "      <td>46428.000000</td>\n",
       "      <td>46428.000000</td>\n",
       "      <td>46428.000000</td>\n",
       "      <td>46428.000000</td>\n",
       "      <td>46428.000000</td>\n",
       "      <td>37246.000000</td>\n",
       "      <td>46428.000000</td>\n",
       "      <td>46428.000000</td>\n",
       "    </tr>\n",
       "    <tr>\n",
       "      <th>mean</th>\n",
       "      <td>1.891808e+07</td>\n",
       "      <td>6.645101e+07</td>\n",
       "      <td>40.728572</td>\n",
       "      <td>-73.950968</td>\n",
       "      <td>122.538016</td>\n",
       "      <td>6.943181</td>\n",
       "      <td>23.827712</td>\n",
       "      <td>1.377473</td>\n",
       "      <td>6.672504</td>\n",
       "      <td>109.676854</td>\n",
       "    </tr>\n",
       "    <tr>\n",
       "      <th>std</th>\n",
       "      <td>1.093120e+07</td>\n",
       "      <td>7.769127e+07</td>\n",
       "      <td>0.055190</td>\n",
       "      <td>0.046386</td>\n",
       "      <td>71.862581</td>\n",
       "      <td>19.877510</td>\n",
       "      <td>45.190521</td>\n",
       "      <td>1.690493</td>\n",
       "      <td>31.083436</td>\n",
       "      <td>130.413952</td>\n",
       "    </tr>\n",
       "    <tr>\n",
       "      <th>min</th>\n",
       "      <td>2.539000e+03</td>\n",
       "      <td>2.438000e+03</td>\n",
       "      <td>40.499790</td>\n",
       "      <td>-74.244420</td>\n",
       "      <td>10.000000</td>\n",
       "      <td>1.000000</td>\n",
       "      <td>0.000000</td>\n",
       "      <td>0.010000</td>\n",
       "      <td>1.000000</td>\n",
       "      <td>0.000000</td>\n",
       "    </tr>\n",
       "    <tr>\n",
       "      <th>25%</th>\n",
       "      <td>9.445461e+06</td>\n",
       "      <td>7.719136e+06</td>\n",
       "      <td>40.689360</td>\n",
       "      <td>-73.982100</td>\n",
       "      <td>65.000000</td>\n",
       "      <td>1.000000</td>\n",
       "      <td>1.000000</td>\n",
       "      <td>0.190000</td>\n",
       "      <td>1.000000</td>\n",
       "      <td>0.000000</td>\n",
       "    </tr>\n",
       "    <tr>\n",
       "      <th>50%</th>\n",
       "      <td>1.954462e+07</td>\n",
       "      <td>3.032152e+07</td>\n",
       "      <td>40.722010</td>\n",
       "      <td>-73.954570</td>\n",
       "      <td>100.000000</td>\n",
       "      <td>2.000000</td>\n",
       "      <td>5.000000</td>\n",
       "      <td>0.715000</td>\n",
       "      <td>1.000000</td>\n",
       "      <td>40.000000</td>\n",
       "    </tr>\n",
       "    <tr>\n",
       "      <th>75%</th>\n",
       "      <td>2.893777e+07</td>\n",
       "      <td>1.056405e+08</td>\n",
       "      <td>40.763330</td>\n",
       "      <td>-73.934628</td>\n",
       "      <td>160.000000</td>\n",
       "      <td>5.000000</td>\n",
       "      <td>24.000000</td>\n",
       "      <td>2.020000</td>\n",
       "      <td>2.000000</td>\n",
       "      <td>217.000000</td>\n",
       "    </tr>\n",
       "    <tr>\n",
       "      <th>max</th>\n",
       "      <td>3.648724e+07</td>\n",
       "      <td>2.743213e+08</td>\n",
       "      <td>40.913060</td>\n",
       "      <td>-73.712990</td>\n",
       "      <td>350.000000</td>\n",
       "      <td>1250.000000</td>\n",
       "      <td>629.000000</td>\n",
       "      <td>58.500000</td>\n",
       "      <td>327.000000</td>\n",
       "      <td>365.000000</td>\n",
       "    </tr>\n",
       "  </tbody>\n",
       "</table>\n",
       "</div>"
      ],
      "text/plain": [
       "                 id       host_id      latitude     longitude         price  \\\n",
       "count  4.642800e+04  4.642800e+04  46428.000000  46428.000000  46428.000000   \n",
       "mean   1.891808e+07  6.645101e+07     40.728572    -73.950968    122.538016   \n",
       "std    1.093120e+07  7.769127e+07      0.055190      0.046386     71.862581   \n",
       "min    2.539000e+03  2.438000e+03     40.499790    -74.244420     10.000000   \n",
       "25%    9.445461e+06  7.719136e+06     40.689360    -73.982100     65.000000   \n",
       "50%    1.954462e+07  3.032152e+07     40.722010    -73.954570    100.000000   \n",
       "75%    2.893777e+07  1.056405e+08     40.763330    -73.934628    160.000000   \n",
       "max    3.648724e+07  2.743213e+08     40.913060    -73.712990    350.000000   \n",
       "\n",
       "       minimum_nights  number_of_reviews  reviews_per_month  \\\n",
       "count    46428.000000       46428.000000       37246.000000   \n",
       "mean         6.943181          23.827712           1.377473   \n",
       "std         19.877510          45.190521           1.690493   \n",
       "min          1.000000           0.000000           0.010000   \n",
       "25%          1.000000           1.000000           0.190000   \n",
       "50%          2.000000           5.000000           0.715000   \n",
       "75%          5.000000          24.000000           2.020000   \n",
       "max       1250.000000         629.000000          58.500000   \n",
       "\n",
       "       calculated_host_listings_count  availability_365  \n",
       "count                    46428.000000      46428.000000  \n",
       "mean                         6.672504        109.676854  \n",
       "std                         31.083436        130.413952  \n",
       "min                          1.000000          0.000000  \n",
       "25%                          1.000000          0.000000  \n",
       "50%                          1.000000         40.000000  \n",
       "75%                          2.000000        217.000000  \n",
       "max                        327.000000        365.000000  "
      ]
     },
     "execution_count": 6,
     "metadata": {},
     "output_type": "execute_result"
    }
   ],
   "source": [
    "df.describe()"
   ]
  },
  {
   "cell_type": "markdown",
   "id": "22917f16",
   "metadata": {},
   "source": [
    "## Fix an example data issue\n",
    "\n",
    "Minimum nights for short stay rentals should probably not be of order three years"
   ]
  },
  {
   "cell_type": "code",
   "execution_count": 8,
   "id": "c5ca2a68",
   "metadata": {},
   "outputs": [
    {
     "data": {
      "text/plain": [
       "<AxesSubplot:>"
      ]
     },
     "execution_count": 8,
     "metadata": {},
     "output_type": "execute_result"
    },
    {
     "data": {
      "image/png": "[encoded data removed]",
      "text/plain": [
       "<Figure size 432x288 with 1 Axes>"
      ]
     },
     "metadata": {
      "needs_background": "light"
     },
     "output_type": "display_data"
    }
   ],
   "source": [
    "df['minimum_nights'].hist(bins=30)"
   ]
  },
  {
   "cell_type": "code",
   "execution_count": 11,
   "id": "accdb592",
   "metadata": {},
   "outputs": [
    {
     "data": {
      "text/plain": [
       "id                                                         4204302\n",
       "name                              Prime W. Village location 1 bdrm\n",
       "host_id                                                   17550546\n",
       "host_name                                                Genevieve\n",
       "neighbourhood_group                                      Manhattan\n",
       "neighbourhood                                    Greenwich Village\n",
       "latitude                                                  40.73293\n",
       "longitude                                                -73.99782\n",
       "room_type                                          Entire home/apt\n",
       "price                                                          180\n",
       "minimum_nights                                                1250\n",
       "number_of_reviews                                                2\n",
       "last_review                                    2014-11-09 00:00:00\n",
       "reviews_per_month                                             0.03\n",
       "calculated_host_listings_count                                   1\n",
       "availability_365                                               365\n",
       "Name: 5767, dtype: object"
      ]
     },
     "execution_count": 11,
     "metadata": {},
     "output_type": "execute_result"
    }
   ],
   "source": [
    "df.iloc[df['minimum_nights'].argmax()]"
   ]
  },
  {
   "cell_type": "code",
   "execution_count": 13,
   "id": "2c33598e",
   "metadata": {},
   "outputs": [
    {
     "data": {
      "text/plain": [
       "<AxesSubplot:>"
      ]
     },
     "execution_count": 13,
     "metadata": {},
     "output_type": "execute_result"
    },
    {
     "data": {
      "image/png": "[encoded data removed]",
      "text/plain": [
       "<Figure size 432x288 with 1 Axes>"
      ]
     },
     "metadata": {
      "needs_background": "light"
     },
     "output_type": "display_data"
    }
   ],
   "source": [
    "min_nights = 90\n",
    "df = df[df['minimum_nights'] < min_nights]\n",
    "df['minimum_nights'].hist(bins=30)\n",
    "# 60 nights is maybe not a bug, though pushing the def. of 'short stay'"
   ]
  },
  {
   "cell_type": "markdown",
   "id": "3fe968be",
   "metadata": {},
   "source": [
    "I could wrap the above param into hydra config, as a matter of best practice, but this isn't pedagocically useful"
   ]
  },
  {
   "cell_type": "markdown",
   "id": "d82e3c41",
   "metadata": {},
   "source": [
    "## Apply further cleaning"
   ]
  },
  {
   "cell_type": "code",
   "execution_count": 14,
   "id": "a59a3c36",
   "metadata": {},
   "outputs": [],
   "source": [
    "# Drop outliers\n",
    "min_price = 10\n",
    "max_price = 350\n",
    "idx = df['price'].between(min_price, max_price)\n",
    "df = df[idx].copy()\n",
    "# Convert last_review to datetime\n",
    "df['last_review'] = pd.to_datetime(df['last_review'])"
   ]
  },
  {
   "cell_type": "code",
   "execution_count": 15,
   "id": "e19fc856",
   "metadata": {},
   "outputs": [
    {
     "name": "stdout",
     "output_type": "stream",
     "text": [
      "<class 'pandas.core.frame.DataFrame'>\n",
      "Int64Index: 46157 entries, 0 to 48894\n",
      "Data columns (total 16 columns):\n",
      " #   Column                          Non-Null Count  Dtype         \n",
      "---  ------                          --------------  -----         \n",
      " 0   id                              46157 non-null  int64         \n",
      " 1   name                            46142 non-null  object        \n",
      " 2   host_id                         46157 non-null  int64         \n",
      " 3   host_name                       46136 non-null  object        \n",
      " 4   neighbourhood_group             46157 non-null  object        \n",
      " 5   neighbourhood                   46157 non-null  object        \n",
      " 6   latitude                        46157 non-null  float64       \n",
      " 7   longitude                       46157 non-null  float64       \n",
      " 8   room_type                       46157 non-null  object        \n",
      " 9   price                           46157 non-null  int64         \n",
      " 10  minimum_nights                  46157 non-null  int64         \n",
      " 11  number_of_reviews               46157 non-null  int64         \n",
      " 12  last_review                     37104 non-null  datetime64[ns]\n",
      " 13  reviews_per_month               37104 non-null  float64       \n",
      " 14  calculated_host_listings_count  46157 non-null  int64         \n",
      " 15  availability_365                46157 non-null  int64         \n",
      "dtypes: datetime64[ns](1), float64(3), int64(7), object(5)\n",
      "memory usage: 6.0+ MB\n"
     ]
    }
   ],
   "source": [
    "df.info()"
   ]
  },
  {
   "cell_type": "code",
   "execution_count": null,
   "id": "250efc23",
   "metadata": {},
   "outputs": [
    {
     "data": {
      "text/html": [
       "<br/>Waiting for W&B process to finish, PID 120632<br/>Program ended successfully."
      ],
      "text/plain": [
       "<IPython.core.display.HTML object>"
      ]
     },
     "metadata": {},
     "output_type": "display_data"
    },
    {
     "data": {
      "text/html": [
       "Find user logs for this run at: <code>/home/walml/repos/build-ml-pipeline-for-short-term-rental-prices/src/eda/wandb/run-20230610_213520-26ngq7g6/logs/debug.log</code>"
      ],
      "text/plain": [
       "<IPython.core.display.HTML object>"
      ]
     },
     "metadata": {},
     "output_type": "display_data"
    },
    {
     "data": {
      "text/html": [
       "Find internal logs for this run at: <code>/home/walml/repos/build-ml-pipeline-for-short-term-rental-prices/src/eda/wandb/run-20230610_213520-26ngq7g6/logs/debug-internal.log</code>"
      ],
      "text/plain": [
       "<IPython.core.display.HTML object>"
      ]
     },
     "metadata": {},
     "output_type": "display_data"
    },
    {
     "data": {
      "text/html": [
       "Synced 7 W&B file(s), 0 media file(s), 5 artifact file(s) and 1 other file(s)"
      ],
      "text/plain": [
       "<IPython.core.display.HTML object>"
      ]
     },
     "metadata": {},
     "output_type": "display_data"
    },
    {
     "data": {
      "text/html": [
       "\n",
       "                    <br/>Synced <strong style=\"color:#cdcd00\">rosy-armadillo-2</strong>: <a href=\"https://wandb.ai/jbca-ice/nyc_airbnb/runs/26ngq7g6\" target=\"_blank\">https://wandb.ai/jbca-ice/nyc_airbnb/runs/26ngq7g6</a><br/>\n",
       "                "
      ],
      "text/plain": [
       "<IPython.core.display.HTML object>"
      ]
     },
     "metadata": {},
     "output_type": "display_data"
    }
   ],
   "source": [
    "run.finish()"
   ]
  },
  {
   "cell_type": "code",
   "execution_count": null,
   "id": "1d8a0152",
   "metadata": {},
   "outputs": [],
   "source": []
  }
 ],
 "metadata": {
  "kernelspec": {
   "display_name": "Python 3",
   "language": "python",
   "name": "python3"
  },
  "language_info": {
   "codemirror_mode": {
    "name": "ipython",
    "version": 3
   },
   "file_extension": ".py",
   "mimetype": "text/x-python",
   "name": "python",
   "nbconvert_exporter": "python",
   "pygments_lexer": "ipython3",
   "version": "3.8.0"
  }
 },
 "nbformat": 4,
 "nbformat_minor": 5
}
